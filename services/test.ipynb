{
 "cells": [
  {
   "cell_type": "code",
   "execution_count": 8,
   "metadata": {},
   "outputs": [],
   "source": [
    "import regex as re\n",
    "try:\n",
    "    from services.sapling import get_sapling_edits \n",
    "except:\n",
    "    from sapling import get_sapling_edits"
   ]
  },
  {
   "cell_type": "code",
   "execution_count": 9,
   "metadata": {},
   "outputs": [],
   "source": [
    "def sapling_to_gingerit_format(sapling_response, original_text):\n",
    "    print(f\"original text:  {original_text} {len(original_text)}\")\n",
    "    corrected_text = original_text\n",
    "\n",
    "    corrections = []\n",
    "    offset = 0  # Initialize an offset to track cumulative position shifts\n",
    "\n",
    "    for correction in sapling_response:\n",
    "        start = correction['start'] + offset  # Adjust start position based on cumulative offset\n",
    "        end = correction['end'] + offset  # Adjust end position based on cumulative offset\n",
    "        replacement = correction['replacement']\n",
    "        general_error_type = correction['general_error_type']\n",
    "\n",
    "        # Calculate the length difference between the replaced text and the replacement\n",
    "        length_diff = len(replacement) - (end - start)\n",
    "\n",
    "        # Apply the correction to the text\n",
    "        corrected_text = corrected_text[:start] + replacement + corrected_text[end:]\n",
    "        print(f\"\"\"after correction :  {corrected_text} \\n\n",
    "              length of word to be replaced: {end - start} \\n\n",
    "              length of replacement: {len(replacement)} \\n\n",
    "              corrected result: {corrected_text}\"\"\")\n",
    "\n",
    "        # Update the offset based on the length difference\n",
    "        offset += length_diff\n",
    "\n",
    "        # Create the correction object\n",
    "        correction_obj = {\n",
    "            \"start\": start,\n",
    "            \"text\": original_text[start:end],\n",
    "            \"correct\": replacement,\n",
    "            \"definition\": general_error_type\n",
    "        }\n",
    "\n",
    "        corrections.append(correction_obj)\n",
    "\n",
    "    # Create the desired output format\n",
    "    output = {\n",
    "        \"text\": original_text,\n",
    "        \"result\": corrected_text,  # Use the corrected_text here\n",
    "        \"corrections\": corrections\n",
    "    }\n",
    "\n",
    "    return output\n"
   ]
  },
  {
   "cell_type": "code",
   "execution_count": 10,
   "metadata": {},
   "outputs": [],
   "source": [
    "def remove_emoticons_hashtags_tags(text):\n",
    "    # Remove emoticons\n",
    "    text = re.sub(r'[\\U0001F600-\\U0001F64F\\U0001F300-\\U0001F5FF\\U0001F680-\\U0001F6FF\\U0001F700-\\U0001F77F\\U0001F800-\\U0001F8FF\\U0001F900-\\U0001F9FF\\U0001FA00-\\U0001FA6F\\U0001FA70-\\U0001FAFF\\U00002702-\\U000027B0\\U000024C2-\\U0001F251]+', '', text)\n",
    "\n",
    "    # Remove hashtags and @tags\n",
    "    text +=\" \"\n",
    "    text = re.sub(r'[#@]\\S+\\s', '', text)\n",
    "\n",
    "    # Remove anything inside parentheses\n",
    "    text = re.sub(r'\\([^)]*\\)', '', text)\n",
    "    \n",
    "    # Remove any trailing punctuations\n",
    "    text = text.replace(\"@\",\"\").replace(\"#\",\"\")\n",
    "    \n",
    "    return text.strip()"
   ]
  },
  {
   "cell_type": "code",
   "execution_count": null,
   "metadata": {},
   "outputs": [],
   "source": []
  },
  {
   "cell_type": "code",
   "execution_count": 14,
   "metadata": {},
   "outputs": [
    {
     "data": {
      "text/plain": [
       "'This check out how we worked with our clients to celebrate the people who make our days a little brighter. \\u200d\\u200d'"
      ]
     },
     "execution_count": 14,
     "metadata": {},
     "output_type": "execute_result"
    }
   ],
   "source": [
    "original_text = \"\"\"This #FriendshipDay, check out how we worked with our clients to celebrate the people who make our days a little brighter. 👩🏽‍🤝‍👩🏻💕\"\"\"\n",
    "emoticonsless_text=remove_emoticons_hashtags_tags(original_text)\n",
    "emoticonsless_text"
   ]
  },
  {
   "cell_type": "code",
   "execution_count": 17,
   "metadata": {},
   "outputs": [
    {
     "data": {
      "text/plain": [
       "\"Error: {'key_prefix': 'NHU********************************', 'msg': 'Rate Limited. Visit https://sapling.ai/docs/api/api-access for details.'}\""
      ]
     },
     "execution_count": 17,
     "metadata": {},
     "output_type": "execute_result"
    }
   ],
   "source": [
    "get_sapling_edits(emoticonsless_text)"
   ]
  },
  {
   "cell_type": "code",
   "execution_count": null,
   "metadata": {},
   "outputs": [],
   "source": [
    "gingerit_output = sapling_to_gingerit_format(get_sapling_edits(emoticonsless_text), emoticonsless_text)\n",
    "print(gingerit_output)"
   ]
  },
  {
   "cell_type": "code",
   "execution_count": null,
   "metadata": {},
   "outputs": [],
   "source": []
  }
 ],
 "metadata": {
  "kernelspec": {
   "display_name": ".venv",
   "language": "python",
   "name": "python3"
  },
  "language_info": {
   "codemirror_mode": {
    "name": "ipython",
    "version": 3
   },
   "file_extension": ".py",
   "mimetype": "text/x-python",
   "name": "python",
   "nbconvert_exporter": "python",
   "pygments_lexer": "ipython3",
   "version": "3.9.17"
  },
  "orig_nbformat": 4
 },
 "nbformat": 4,
 "nbformat_minor": 2
}
